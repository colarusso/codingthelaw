{
 "cells": [
  {
   "cell_type": "markdown",
   "metadata": {},
   "source": [
    "# See Spot. See Spot Run.\n",
    "\n",
    "What follows is an introduction to the Spot issue spotter API avilable at [https://spot.suffolklitlab.org/](https://spot.suffolklitlab.org/). Give Spot a non-lawyer's description of a situation, and it returns a list of likely issues from the National Subject Matter Index (NSMI), [Version 2](https://spot.suffolklitlab.org/performance/#nsmi). The NSMI provides the legal aid community with a standard nomenclature for talking about client needs. It includes issues like eviction, foreclosure, bankruptcy, and child support. Spot is provided as a service over an API. Mostly, this means it's built for use by computer programs, not people. Coders can build things (like websites) on top of the API. The hope is that by automating part of issue identification, developers will use Spot to help people in need of legal assistance better access available resources. See [Pew Grant Will Take ‘Learned Hands’ Project from Prototype to Production, to Help ID Consumers’ Legal Issues](https://www.lawsitesblog.com/2019/07/pew-grant-will-take-learned-hands-project-from-prototype-to-production-to-help-id-consumers-legal-issues.html).\n",
    "\n",
    "You'll want to first review the API's documenation here: https://app.swaggerhub.com/apis-docs/suffolklitlab/spot/\n",
    "\n",
    "Then you'll want to create an account here and get your user token. https://spot.suffolklitlab.org/user/new/\n",
    "\n",
    "Once, you have a token, you can use it below to explore the API.\n",
    "\n",
    "## Load libraries and set your user token\n",
    "\n",
    "Note: If you every just want to play around with a RESTful API in your browser, the RESTED plugin is a useful tool. See [Chrome](https://chrome.google.com/webstore/detail/rested/eelcnbccaccipfolokglfhhmapdchbfg?hl=en-US) and [Firefox](https://addons.mozilla.org/en-US/firefox/addon/rested/) implemnations. "
   ]
  },
  {
   "cell_type": "code",
   "execution_count": null,
   "metadata": {
    "collapsed": true
   },
   "outputs": [],
   "source": [
    "import requests\n",
    "import json\n",
    "\n",
    "# replace with your own token\n",
    "token = \"\"\n",
    "\n",
    "headers = { \"Authorization\": \"Bearer \" + token, \n",
    "            \"Content-Type\":\"application/json\" }"
   ]
  },
  {
   "cell_type": "markdown",
   "metadata": {},
   "source": [
    "## Prepare and run your query\n",
    "\n",
    "The API returns a JSON object. If you need help viewing it, consider cutting and pasting the content into this tool. http://jsonviewer.stack.hu/"
   ]
  },
  {
   "cell_type": "code",
   "execution_count": null,
   "metadata": {
    "collapsed": true
   },
   "outputs": [],
   "source": [
    "body = {\n",
    "  \"text\": \"I was kicked out of my apartment.\",\n",
    "  \"save-text\": 1,\n",
    "  \"cutoff-lower\": 0.25,\n",
    "  \"cutoff-pred\": 0.5,\n",
    "  \"cutoff-upper\": 0.5\n",
    "}\n",
    "\n",
    "r = requests.post('https://spot.suffolklitlab.org/v0/entities-nested/', headers=headers, data=json.dumps(body))\n",
    "output_ = r.json()\n",
    "\n",
    "output_"
   ]
  },
  {
   "cell_type": "markdown",
   "metadata": {},
   "source": [
    "## Clean up the reply\n",
    "\n",
    "Let's use a for loop to run through the output. "
   ]
  },
  {
   "cell_type": "code",
   "execution_count": null,
   "metadata": {
    "collapsed": true
   },
   "outputs": [],
   "source": [
    "print(\"Your text:\")\n",
    "print(output_[\"text\"])\n",
    "print(\"\\nPossible issues:\")\n",
    "for item in output_[\"labels\"]:\n",
    "    print(\"-\",item[\"name\"])\n",
    "    try:\n",
    "        for child in item[\"children\"]:\n",
    "            print(\"--\",child[\"name\"])\n",
    "    except:\n",
    "        print(\"-- NO CHILD ISSUES\")"
   ]
  },
  {
   "cell_type": "markdown",
   "metadata": {},
   "source": [
    "Now let's add a bit to show the lower and upper bounds of the predictions. "
   ]
  },
  {
   "cell_type": "code",
   "execution_count": null,
   "metadata": {
    "collapsed": true
   },
   "outputs": [],
   "source": [
    "print(\"Your text:\")\n",
    "print(output_[\"text\"])\n",
    "print(\"\\nPossible issues:\")\n",
    "for item in output_[\"labels\"]:\n",
    "    print(\"-\",item[\"name\"],\"(%s%%-%s%%)\"%(round(item[\"lower\"]*100),round(item[\"upper\"]*100)))\n",
    "    try:\n",
    "        for child in item[\"children\"]:\n",
    "            print(\"--\",child[\"name\"],\"(%s%%-%s%%)\"%(round(child[\"lower\"]*100),round(child[\"upper\"]*100)))\n",
    "    except:\n",
    "        print(\"-- NO CHILD ISSUES\")"
   ]
  },
  {
   "cell_type": "markdown",
   "metadata": {},
   "source": [
    "Now let's make this all into a single function"
   ]
  },
  {
   "cell_type": "code",
   "execution_count": null,
   "metadata": {
    "collapsed": true
   },
   "outputs": [],
   "source": [
    "def getNSMI(token,text,save=1,lower=0.25,pred=0.5,upper=0.5):\n",
    "    \n",
    "    headers = { \"Authorization\": \"Bearer \" + token, \n",
    "                \"Content-Type\":\"application/json\" }\n",
    "\n",
    "    body = {\n",
    "      \"text\": text,\n",
    "      \"save-text\": save,\n",
    "      \"cutoff-lower\": lower,\n",
    "      \"cutoff-pred\": pred,\n",
    "      \"cutoff-upper\": upper\n",
    "    }\n",
    "\n",
    "    r = requests.post('https://spot.suffolklitlab.org/v0/entities-nested/', headers=headers, data=json.dumps(body))\n",
    "    output_ = r.json()\n",
    "\n",
    "    print(\"Your text:\")\n",
    "    print(output_[\"text\"])\n",
    "    print(\"\\nPossible issues:\")\n",
    "    for item in output_[\"labels\"]:\n",
    "        print(\"-\",item[\"name\"],\"(%s%%-%s%%)\"%(round(item[\"lower\"]*100),round(item[\"upper\"]*100)))\n",
    "        try:\n",
    "            for child in item[\"children\"]:\n",
    "                print(\"--\",child[\"name\"],\"(%s%%-%s%%)\"%(round(child[\"lower\"]*100),round(child[\"upper\"]*100)))\n",
    "        except:\n",
    "            print(\"-- NO CHILD ISSUES\")\n",
    "    \n",
    "    return output_"
   ]
  },
  {
   "cell_type": "code",
   "execution_count": null,
   "metadata": {
    "collapsed": true
   },
   "outputs": [],
   "source": [
    "text = input(\"What seems to be the issue? \")\n",
    "output_ = getNSMI(token,text,lower=0.25)"
   ]
  },
  {
   "cell_type": "code",
   "execution_count": null,
   "metadata": {
    "collapsed": true
   },
   "outputs": [],
   "source": []
  }
 ],
 "metadata": {
  "kernelspec": {
   "display_name": "Python 3.5",
   "language": "python",
   "name": "python3.5"
  },
  "language_info": {
   "codemirror_mode": {
    "name": "ipython",
    "version": 3
   },
   "file_extension": ".py",
   "mimetype": "text/x-python",
   "name": "python",
   "nbconvert_exporter": "python",
   "pygments_lexer": "ipython3",
   "version": "3.5.2"
  }
 },
 "nbformat": 4,
 "nbformat_minor": 2
}
